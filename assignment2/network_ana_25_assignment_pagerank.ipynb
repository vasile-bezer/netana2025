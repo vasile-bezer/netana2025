{
 "cells": [
  {
   "cell_type": "markdown",
   "metadata": {},
   "source": [
    "### Assignment: PageRank (due on Jan. 28)\n"
   ]
  },
  {
   "cell_type": "markdown",
   "metadata": {},
   "source": [
    "For this exercise, you will compare PageRank with normalized degree node centrality. \n",
    "\n",
    "For this question, you may use networkx.pagerank or your implementation of PageRank-1 or PageRank-2.\n",
    "\n",
    "Use:\n",
    "\n",
    "    [synthetic-networks] Three random graphs of your choice from diffferent random graph generators of NetworkX, with at least 100 nodes and 100 edges each; and \n",
    "    [real-networks] Three Web or Internet networks of your choice from the SNAP repository.\n",
    "\n",
    "Produce the following plots.\n",
    "\n",
    "    [measure-plots] One scatter plot for each network, where each dot corresponds to one node, and the two axes (x,y) correspond to the two measures (PageRank and normalized degree).\n",
    "    [network-plots] One visualization of each network, with PageRank indicated by color (blue-red colormap for low-high values) and degree indicated by node size (higher degree has higher size).\n",
    "\n",
    "Attach the plots as files, making sure that each of them has an id (plot number), title, and descriptive caption/subtitle.\n",
    "\n",
    "How does PageRank compare to normalized degree in the networks you examined? Produce one paragraph of text to summarize your findings.\n",
    "\n",
    "Note:\n",
    "\n",
    "    Normalized degree: the degree d\n",
    "\n",
    "of each node divided by n−1\n",
    ", where n is the number of nodes.\n",
    "For directed graphs, use the in-degree of a node as the degree measure.\n",
    "If a network is too large to visualize, then visualize its largest connected component -- and if that is also too large, visualize any connected subgraph of it with about one thousand nodes."
   ]
  },
  {
   "cell_type": "code",
   "execution_count": 64,
   "metadata": {},
   "outputs": [],
   "source": [
    "import networkx as nx\n",
    "import numpy as np\n",
    "import scipy as sp\n",
    "from matplotlib import pyplot as plt"
   ]
  },
  {
   "cell_type": "code",
   "execution_count": 65,
   "metadata": {},
   "outputs": [],
   "source": [
    "filenames =[\"p2p-Gnutella08.txt\", \"p2p-Gnutella09.txt\", \"p2p-Gnutella24.txt\"] \n",
    "graphs = list()\n",
    "names = list()"
   ]
  },
  {
   "cell_type": "code",
   "execution_count": null,
   "metadata": {},
   "outputs": [],
   "source": [
    "for filename in filenames:\n",
    "\tG = nx.DiGraph()\n",
    "\twith open(filename, 'r') as f:\n",
    "\t\t# Skip the first three lines of metadata\n",
    "\t\tfor idx in range(4):\n",
    "\t\t\tif idx == 1:\n",
    "\t\t\t\tnames.append(f.readline())\n",
    "\t\t\telse: next(f)\n",
    "\t\t\n",
    "\t\t# Read the edges from the file\n",
    "\t\tfor line in f:\n",
    "\t\t\t# Split each line into source and target nodes (ignoring the newline character)\n",
    "\t\t\tfrom_node, to_node = map(int, line.split())\n",
    "\t\t\tG.add_edge(from_node, to_node)\n",
    "\n",
    "\tprint(f\"# of nodes: {G.number_of_nodes()}\")\n",
    "\tprint(f\"# of edges: {G.number_of_edges()}\")\n",
    "\tgraphs.append(G)"
   ]
  },
  {
   "cell_type": "code",
   "execution_count": 67,
   "metadata": {},
   "outputs": [],
   "source": [
    "pagerank_results = list()\n",
    "for G in graphs:\n",
    "\tpagerank_result = nx.pagerank(G)\n",
    "\tpagerank_results.append(pagerank_result)\n"
   ]
  },
  {
   "cell_type": "code",
   "execution_count": null,
   "metadata": {},
   "outputs": [],
   "source": [
    "pagerank_results"
   ]
  },
  {
   "cell_type": "code",
   "execution_count": 69,
   "metadata": {},
   "outputs": [],
   "source": [
    "in_degree_centrality_results = list()\n",
    "for G in graphs: \n",
    "\tin_degree_centrality_result = nx.in_degree_centrality(G)\n",
    "\tin_degree_centrality_results.append(in_degree_centrality_result)"
   ]
  },
  {
   "cell_type": "code",
   "execution_count": null,
   "metadata": {},
   "outputs": [],
   "source": [
    "for name, in_degree_centrality_result, pagerank_result in zip(names, in_degree_centrality_results, pagerank_results): \n",
    "\tpagerank_values = list(pagerank_result.values())\n",
    "\tcentrality_values = list(in_degree_centrality_result.values())\n",
    "\n",
    "\t# Create the scatter plot\n",
    "\tplt.figure(figsize=(8, 6))\n",
    "\tplt.scatter(x = pagerank_values, y = centrality_values, c='blue', edgecolors='black', alpha=0.7)\n",
    "\n",
    "\tplt.xlabel('Pagerank')\n",
    "\tplt.ylabel('Normalized node centrality')\n",
    "\tplt.suptitle(name, fontsize=16)\n",
    "\tplt.title('Pagerank vs Normalized node centrality', fontsize=12)\n",
    "\tplt.grid(True)\n",
    "\tplt.show()\n"
   ]
  },
  {
   "cell_type": "code",
   "execution_count": null,
   "metadata": {},
   "outputs": [],
   "source": [
    "for in_degree_centrality_result, pagerank_result, G, name in zip(in_degree_centrality_results, pagerank_results, graphs, names):\n",
    "\tpagerank_values = np.array(list(pagerank_result.values()))\n",
    "\tpagerank_norm = (pagerank_values - pagerank_values.min()) / (pagerank_values.max() - pagerank_values.min())\n",
    "\n",
    "\n",
    "\tnode_colors = plt.cm.coolwarm(pagerank_norm)\n",
    "\n",
    "\tnode_sizes = [10 + 90 * (in_degree_centrality_result[node] / max(in_degree_centrality_result.values())) for node in G.nodes()]\n",
    "\n",
    "\tpos = nx.spring_layout(G, seed=42)\n",
    "\n",
    "\t# Plot the graph\n",
    "\tplt.figure(figsize=(15, 15))\n",
    "\tnx.draw(G, pos, node_color=node_colors, node_size=node_sizes, edge_color='gray', alpha=0.5, with_labels=False)\n",
    "\tsm = plt.cm.ScalarMappable(cmap=plt.cm.coolwarm, norm=plt.Normalize(vmin=pagerank_values.min(), vmax=pagerank_values.max()))\n",
    "\tsm.set_array([])\n",
    "\n",
    "\tplt.title(f\"{name} graph visualization, {G.number_of_nodes()} nodes, {G.number_of_edges()} edges\", fontsize=16)\n",
    "\tplt.suptitle(\"PageRank indicated by color (blue-red colormap for low-high values) and degree indicated by node size (higher degree has higher size)\", fontsize=12)\n",
    "\tplt.axis('off')\n",
    "\tplt.show()\n"
   ]
  },
  {
   "cell_type": "code",
   "execution_count": null,
   "metadata": {},
   "outputs": [],
   "source": [
    "#sub = k = G.subgraph(list(G.nodes)[:50])\n",
    "#pos = nx.spring_layout(sub, seed=42)\n",
    "#nx.draw_networkx(sub, arrows=True, pos = pos)"
   ]
  },
  {
   "cell_type": "code",
   "execution_count": null,
   "metadata": {},
   "outputs": [],
   "source": [
    "seed = 42\n",
    "\n",
    "G1 = nx.erdos_renyi_graph(n = 100, p = 0.02, seed=seed)\n",
    "G2 = nx.barabasi_albert_graph(n = 100, m = 2, seed=seed)\n",
    "G3 = nx.watts_strogatz_graph(n = 100, k = 4, p = 0.1, seed=seed)\n",
    "\n",
    "fig, axes = plt.subplots(1, 3, figsize=(18, 6))\n",
    "graphs = [G1, G2, G3]\n",
    "titles = [\"Erdos-Renyi (n=100, p=0.02)\", \"Barabási-Albert (n=100, m=2)\", \"Watts-Strogatz (n=100, k=4, p=0.1)\"]\n",
    "\n",
    "for i, (G, title) in enumerate(zip(graphs, titles)):\n",
    "    ax = axes[i]\n",
    "    pos = nx.spring_layout(G, seed=seed)\n",
    "    nx.draw(G, pos, ax=ax, node_size=50, node_color=\"skyblue\", edge_color=\"gray\", with_labels=False)\n",
    "    ax.set_title(title)\n",
    "\n",
    "plt.tight_layout()\n",
    "plt.show()"
   ]
  },
  {
   "cell_type": "code",
   "execution_count": 76,
   "metadata": {},
   "outputs": [],
   "source": [
    "graphs =[G1, G2, G3] \n",
    "names = [\"Erdos-Renyi Random graph\", \"Barabási-Albert graph\", \"Watts-Strogatz graph\"] \n",
    "\n",
    "pagerank_results = list()\n",
    "for G in graphs:\n",
    "\tpagerank_result = nx.pagerank(G)\n",
    "\tpagerank_results.append(pagerank_result)\n",
    "\n",
    "degree_centrality_results = list()\n",
    "for G in graphs: \n",
    "\tdegree_centrality_result = nx.degree_centrality(G)\n",
    "\tdegree_centrality_results.append(degree_centrality_result)"
   ]
  },
  {
   "cell_type": "code",
   "execution_count": null,
   "metadata": {},
   "outputs": [],
   "source": [
    "for name, degree_centrality_result, pagerank_result in zip(names, degree_centrality_results, pagerank_results): \n",
    "\tpagerank_values = list(pagerank_result.values())\n",
    "\tcentrality_values = list(degree_centrality_result.values())\n",
    "\n",
    "\t# Create the scatter plot\n",
    "\tplt.figure(figsize=(8, 6))\n",
    "\tplt.scatter(x = pagerank_values, y = centrality_values, c='blue', edgecolors='black', alpha=0.7)\n",
    "\n",
    "\tplt.xlabel('Pagerank')\n",
    "\tplt.ylabel('Normalized node centrality')\n",
    "\tplt.suptitle(name, fontsize=16)\n",
    "\tplt.title('Pagerank vs Normalized node centrality', fontsize=12)\n",
    "\tplt.grid(True)\n",
    "\tplt.show()\n"
   ]
  },
  {
   "cell_type": "code",
   "execution_count": null,
   "metadata": {},
   "outputs": [],
   "source": [
    "for degree_centrality_result, pagerank_result, G, name in zip(degree_centrality_results, pagerank_results, graphs, names):\n",
    "\tpagerank_values = np.array(list(pagerank_result.values()))\n",
    "\tpagerank_norm = (pagerank_values - pagerank_values.min()) / (pagerank_values.max() - pagerank_values.min())\n",
    "\n",
    "\n",
    "\tnode_colors = plt.cm.coolwarm(pagerank_norm)\n",
    "\n",
    "\tnode_sizes = [10 + 90 * (degree_centrality_result[node] / max(degree_centrality_result.values())) for node in G.nodes()]\n",
    "\n",
    "\tpos = nx.spring_layout(G, seed=42)\n",
    "\n",
    "\t# Plot the graph\n",
    "\tplt.figure(figsize=(15, 15))\n",
    "\tnx.draw(G, pos, node_color=node_colors, node_size=node_sizes, edge_color='gray', alpha=0.5, with_labels=False)\n",
    "\tsm = plt.cm.ScalarMappable(cmap=plt.cm.coolwarm, norm=plt.Normalize(vmin=pagerank_values.min(), vmax=pagerank_values.max()))\n",
    "\tsm.set_array([])\n",
    "\n",
    "\tplt.title(f\"{name} visualization, {G.number_of_nodes()} nodes, {G.number_of_edges()} edges\", fontsize=16)\n",
    "\tplt.suptitle(\"PageRank indicated by color (blue-red colormap for low-high values) and degree indicated by node size (higher degree has higher size)\", fontsize=12)\n",
    "\tplt.axis('off')\n",
    "\tplt.show()"
   ]
  }
 ],
 "metadata": {
  "kernelspec": {
   "display_name": "Python 3",
   "language": "python",
   "name": "python3"
  },
  "language_info": {
   "codemirror_mode": {
    "name": "ipython",
    "version": 3
   },
   "file_extension": ".py",
   "mimetype": "text/x-python",
   "name": "python",
   "nbconvert_exporter": "python",
   "pygments_lexer": "ipython3",
   "version": "3.10.12"
  }
 },
 "nbformat": 4,
 "nbformat_minor": 2
}
